{
 "cells": [
  {
   "cell_type": "code",
   "execution_count": null,
   "id": "26c5e841-affa-404b-8679-4d55d850dfd6",
   "metadata": {},
   "outputs": [
    {
     "name": "stdout",
     "output_type": "stream",
     "text": [
      "test\n"
     ]
    }
   ],
   "source": [
    "print(\"test\")"
   ]
  },
  {
   "cell_type": "code",
   "execution_count": 1,
   "id": "ea549194-1155-4c78-825f-2678f81ead1a",
   "metadata": {},
   "outputs": [
    {
     "name": "stdout",
     "output_type": "stream",
     "text": [
      "Please wait while the program is loading...\n"
     ]
    }
   ],
   "source": [
    "message = 'Please wait while the program is loading...'\n",
    "print(message)"
   ]
  },
  {
   "cell_type": "code",
   "execution_count": 3,
   "id": "e6fe9c82",
   "metadata": {},
   "outputs": [
    {
     "name": "stdout",
     "output_type": "stream",
     "text": [
      "My name is Bob and I am 99 years old\n"
     ]
    }
   ],
   "source": [
    "name = 'Bob'\n",
    "age = 99\n",
    "print('My name is', name, 'and I am', age, 'years old')"
   ]
  },
  {
   "cell_type": "code",
   "execution_count": 8,
   "id": "95586fd9",
   "metadata": {},
   "outputs": [
    {
     "name": "stdout",
     "output_type": "stream",
     "text": [
      "helloworld\n",
      "hello*world\n",
      "hello world\n",
      "node -> child -> child\n"
     ]
    }
   ],
   "source": [
    "print('hello', 'world', sep='')\n",
    "print('hello', 'world', sep='*')\n",
    "print('hello', 'world', sep=None)\n",
    "print('node', 'child', 'child', sep=' -> ')"
   ]
  }
 ],
 "metadata": {
  "kernelspec": {
   "display_name": "Python 3 (ipykernel)",
   "language": "python",
   "name": "python3"
  },
  "language_info": {
   "codemirror_mode": {
    "name": "ipython",
    "version": 3
   },
   "file_extension": ".py",
   "mimetype": "text/x-python",
   "name": "python",
   "nbconvert_exporter": "python",
   "pygments_lexer": "ipython3",
   "version": "3.11.2"
  }
 },
 "nbformat": 4,
 "nbformat_minor": 5
}
